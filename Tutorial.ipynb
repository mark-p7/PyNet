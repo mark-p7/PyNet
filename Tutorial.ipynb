{
 "cells": [
  {
   "cell_type": "markdown",
   "metadata": {},
   "source": [
    "<div style=\"color: #f9f9f7; border: 5px solid #f9f9f7; padding: 10px;\">\n",
    "    <h1>Getting Started with Python. NET</h1>\n",
    "    <p style=\"font-weight: bold; \">First of all, what is Python. NET?<p>\n",
    "    <p>Python. NET (pythonnet) is a package that gives Python programmers nearly seamless integration with the . NET 4.0+ Common Language Runtime (CLR) on Windows and Mono runtime on Linux and OSX. Python.NET can be used with . NET embedding Python and/or can be used with Python embedding .NET. In today's tutorial, I will be showing both ways Python. NET can be implemented.</p>\n",
    "</div>\n"
   ]
  },
  {
   "cell_type": "markdown",
   "metadata": {},
   "source": [
    "<div style=\"color: #f9f9f7; padding: 10px; border-left: 2px solid #f9f9f7;\">\n",
    "    <p style=\"font-weight: bold;\">What is the Common Language Runtime(CLR)?<p>\n",
    "        Well taken straight from the source....\n",
    "        <p>.NET provides a run-time environment called the common language runtime that runs the code and provides services that make the development process easier.</p>\n",
    "        <p>Compilers and tools expose the common language runtime's functionality and enable you to write code that benefits from the managed execution environment. Code that you develop with a language compiler that targets the runtime is called managed code. Managed code benefits from features such as cross-language integration, cross-language exception handling, enhanced security, versioning and deployment support, a simplified model for component interaction, and debugging and profiling services.</p>\n",
    "        <p>TLDR; CLR helps manage the execution of .NET programs, regardless of the .NET language they were written in.</p>\n",
    "</div>\n"
   ]
  },
  {
   "cell_type": "markdown",
   "metadata": {},
   "source": [
    "<div style=\"color: #f9f9f7; padding: 10px; border-left: 2px solid #f9f9f7;\">\n",
    "    <p style=\"font-weight: bold;\">What are some benefits of the Common Language Runtime Enviornment?<p>\n",
    "        Also taken straight from Microsoft Docs...\n",
    "        <ul>\n",
    "            <li>Performance improvements</li>\n",
    "            <li>The ability to easily use components developed in other languages.</li>\n",
    "            <li>Extensible types provided by a class library.</li>\n",
    "            <li>Language features such as inheritance, interfaces, and overloading for object-oriented programming.</li>\n",
    "            <li>Support for explicit free threading that allows creation of multithreaded and scalable applications.</li>\n",
    "            <li>Support for structured exception handling.</li>\n",
    "            <li>Support for custom attributes.</li>\n",
    "            <li>Garbage collection.</li>\n",
    "        </ul>\n",
    "</div>"
   ]
  },
  {
   "cell_type": "markdown",
   "metadata": {},
   "source": [
    "<div style=\"color: #f9f9f7; padding: 10px; border-left: 2px solid #f9f9f7;\">\n",
    "    <p style=\"font-weight: bold;\">Installing Pythonnet<p>\n",
    "        <code style=\"margin-left: 10px;\">\n",
    "        pip install pythonnet\n",
    "        </code>\n",
    "</div>"
   ]
  },
  {
   "cell_type": "code",
   "execution_count": 33,
   "metadata": {},
   "outputs": [
    {
     "ename": "RuntimeError",
     "evalue": "Could not find a suitable hostfxr library in /usr/local/share/dotnet/x64",
     "output_type": "error",
     "traceback": [
      "\u001b[0;31m---------------------------------------------------------------------------\u001b[0m",
      "\u001b[0;31mRuntimeError\u001b[0m                              Traceback (most recent call last)",
      "Cell \u001b[0;32mIn [33], line 3\u001b[0m\n\u001b[1;32m      1\u001b[0m \u001b[39mfrom\u001b[39;00m \u001b[39mclr_loader\u001b[39;00m \u001b[39mimport\u001b[39;00m \u001b[39m*\u001b[39m\n\u001b[1;32m      2\u001b[0m \u001b[39mfrom\u001b[39;00m \u001b[39mpythonnet\u001b[39;00m \u001b[39mimport\u001b[39;00m \u001b[39m*\u001b[39m\n\u001b[0;32m----> 3\u001b[0m rt \u001b[39m=\u001b[39m get_coreclr()\n\u001b[1;32m      4\u001b[0m set_runtime(rt)\n\u001b[1;32m      5\u001b[0m \u001b[39mimport\u001b[39;00m \u001b[39mclr\u001b[39;00m\n",
      "File \u001b[0;32m/opt/homebrew/lib/python3.10/site-packages/clr_loader/__init__.py:122\u001b[0m, in \u001b[0;36mget_coreclr\u001b[0;34m(runtime_config, dotnet_root, properties, runtime_spec)\u001b[0m\n\u001b[1;32m    119\u001b[0m     \u001b[39mwith\u001b[39;00m \u001b[39mopen\u001b[39m(runtime_config, \u001b[39m\"\u001b[39m\u001b[39mw\u001b[39m\u001b[39m\"\u001b[39m) \u001b[39mas\u001b[39;00m f:\n\u001b[1;32m    120\u001b[0m         runtime_spec\u001b[39m.\u001b[39mwrite_config(f)\n\u001b[0;32m--> 122\u001b[0m impl \u001b[39m=\u001b[39m DotnetCoreRuntime(runtime_config\u001b[39m=\u001b[39;49mruntime_config, dotnet_root\u001b[39m=\u001b[39;49mdotnet_root)\n\u001b[1;32m    123\u001b[0m \u001b[39mif\u001b[39;00m properties:\n\u001b[1;32m    124\u001b[0m     \u001b[39mfor\u001b[39;00m key, value \u001b[39min\u001b[39;00m properties\u001b[39m.\u001b[39mitems():\n",
      "File \u001b[0;32m/opt/homebrew/lib/python3.10/site-packages/clr_loader/hostfxr.py:22\u001b[0m, in \u001b[0;36mDotnetCoreRuntime.__init__\u001b[0;34m(self, runtime_config, dotnet_root, **params)\u001b[0m\n\u001b[1;32m     19\u001b[0m     \u001b[39mraise\u001b[39;00m \u001b[39mRuntimeError\u001b[39;00m(\u001b[39m\"\u001b[39m\u001b[39mRuntime can not be reinitialized\u001b[39m\u001b[39m\"\u001b[39m)\n\u001b[1;32m     21\u001b[0m \u001b[39mself\u001b[39m\u001b[39m.\u001b[39m_dotnet_root \u001b[39m=\u001b[39m Path(dotnet_root)\n\u001b[0;32m---> 22\u001b[0m \u001b[39mself\u001b[39m\u001b[39m.\u001b[39m_dll \u001b[39m=\u001b[39m load_hostfxr(\u001b[39mself\u001b[39;49m\u001b[39m.\u001b[39;49m_dotnet_root)\n\u001b[1;32m     23\u001b[0m \u001b[39mself\u001b[39m\u001b[39m.\u001b[39m_is_initialized \u001b[39m=\u001b[39m \u001b[39mFalse\u001b[39;00m\n\u001b[1;32m     24\u001b[0m \u001b[39mself\u001b[39m\u001b[39m.\u001b[39m_handle \u001b[39m=\u001b[39m _get_handle(\u001b[39mself\u001b[39m\u001b[39m.\u001b[39m_dll, \u001b[39mself\u001b[39m\u001b[39m.\u001b[39m_dotnet_root, runtime_config)\n",
      "File \u001b[0;32m/opt/homebrew/lib/python3.10/site-packages/clr_loader/ffi/__init__.py:37\u001b[0m, in \u001b[0;36mload_hostfxr\u001b[0;34m(dotnet_root)\u001b[0m\n\u001b[1;32m     34\u001b[0m \u001b[39mexcept\u001b[39;00m \u001b[39mException\u001b[39;00m:\n\u001b[1;32m     35\u001b[0m     \u001b[39mpass\u001b[39;00m\n\u001b[0;32m---> 37\u001b[0m \u001b[39mraise\u001b[39;00m \u001b[39mRuntimeError\u001b[39;00m(\u001b[39mf\u001b[39m\u001b[39m\"\u001b[39m\u001b[39mCould not find a suitable hostfxr library in \u001b[39m\u001b[39m{\u001b[39;00mdotnet_root\u001b[39m}\u001b[39;00m\u001b[39m\"\u001b[39m)\n",
      "\u001b[0;31mRuntimeError\u001b[0m: Could not find a suitable hostfxr library in /usr/local/share/dotnet/x64"
     ]
    }
   ],
   "source": [
    "import clr"
   ]
  },
  {
   "cell_type": "markdown",
   "metadata": {},
   "source": [
    "<div style=\"color: #f9f9f7; padding: 10px; border-left: 2px solid #f9f9f7;\">\n",
    "    <p style=\"font-weight: bold; \">Importing Modules<p>\n",
    "    <p>Python.NET allows Common Language Runtimes(CLR) namespaces to be treated essentially as Python packages.</p>\n",
    "</div>\n"
   ]
  },
  {
   "cell_type": "code",
   "execution_count": 23,
   "metadata": {},
   "outputs": [
    {
     "ename": "ModuleNotFoundError",
     "evalue": "No module named 'System'",
     "output_type": "error",
     "traceback": [
      "\u001b[0;31m---------------------------------------------------------------------------\u001b[0m",
      "\u001b[0;31mModuleNotFoundError\u001b[0m                       Traceback (most recent call last)",
      "Cell \u001b[0;32mIn [23], line 3\u001b[0m\n\u001b[1;32m      1\u001b[0m \u001b[39mimport\u001b[39;00m \u001b[39mpythonnet\u001b[39;00m\n\u001b[1;32m      2\u001b[0m \u001b[39m# https://learn.microsoft.com/en-us/dotnet/api/system.collections.generic?view=net-7.0\u001b[39;00m\n\u001b[0;32m----> 3\u001b[0m \u001b[39mfrom\u001b[39;00m \u001b[39mSystem\u001b[39;00m\u001b[39m.\u001b[39;00m\u001b[39mCollections\u001b[39;00m\u001b[39m.\u001b[39;00m\u001b[39mGeneric\u001b[39;00m \u001b[39mimport\u001b[39;00m Dictionary\n\u001b[1;32m      4\u001b[0m \u001b[39mfrom\u001b[39;00m \u001b[39mSystem\u001b[39;00m \u001b[39mimport\u001b[39;00m String, UInt32, Type, Console\n\u001b[1;32m      6\u001b[0m \u001b[39m# What happens if I change String into UInt32?\u001b[39;00m\n",
      "\u001b[0;31mModuleNotFoundError\u001b[0m: No module named 'System'"
     ]
    }
   ],
   "source": [
    "\n",
    "import pythonnet\n",
    "# https://learn.microsoft.com/en-us/dotnet/api/system.collections.generic?view=net-7.0\n",
    "from System.Collections.Generic import Dictionary\n",
    "from System import String, UInt32, Type, Console\n",
    "\n",
    "# What happens if I change String into UInt32?\n",
    "dict1 = Dictionary[String, String]()\n",
    "dict2 = Dictionary[String, String]()\n",
    "dict3 = Dictionary[String, String]()\n",
    "\n",
    "dict1.Add(\"name\", \"mark\")\n",
    "dict1.Add(\"age\", \"20\")\n",
    "\n",
    "dict2.Add(\"name\", \"bob\")\n",
    "dict2.Add(\"age\", \"27\")\n",
    "\n",
    "dict3.Add(\"name\", \"jane\")\n",
    "dict3.Add(\"age\", \"34\")\n",
    "\n",
    "arrayOfDicts = [dict1, dict2, dict3]\n",
    "\n",
    "for i in range(0, len(arrayOfDicts)):\n",
    "    print(arrayOfDicts[i][\"name\"] + \" is currently \" + arrayOfDicts[i][\"age\"] + \" years old.\")\n",
    "\n",
    "\n",
    "pythonnet.get_runtime_info()\n"
   ]
  },
  {
   "cell_type": "markdown",
   "metadata": {},
   "source": [
    "<div style=\"color: #f9f9f7; padding: 10px; border-left: 2px solid #f9f9f7;\">\n",
    "    <p style=\"font-weight: bold; \">Loading Assemblies<p>\n",
    "    <p>The AddReference method can load assemblies if its not currently loaded.</p>\n",
    "</div>"
   ]
  },
  {
   "cell_type": "code",
   "execution_count": null,
   "metadata": {},
   "outputs": [
    {
     "ename": "AttributeError",
     "evalue": "module 'clr' has no attribute 'AddReference'",
     "output_type": "error",
     "traceback": [
      "\u001b[0;31m---------------------------------------------------------------------------\u001b[0m",
      "\u001b[0;31mAttributeError\u001b[0m                            Traceback (most recent call last)",
      "Cell \u001b[0;32mIn [8], line 4\u001b[0m\n\u001b[1;32m      1\u001b[0m \u001b[39mimport\u001b[39;00m \u001b[39mclr\u001b[39;00m\n\u001b[1;32m      3\u001b[0m \u001b[39m# Loading Assembly\u001b[39;00m\n\u001b[0;32m----> 4\u001b[0m clr\u001b[39m.\u001b[39;49mAddReference(\u001b[39m\"\u001b[39m\u001b[39mSystem.Windows.Forms\u001b[39m\u001b[39m\"\u001b[39m)\n\u001b[1;32m      6\u001b[0m \u001b[39m# Importing it here\u001b[39;00m\n\u001b[1;32m      7\u001b[0m \u001b[39mfrom\u001b[39;00m \u001b[39mSystem\u001b[39;00m\u001b[39m.\u001b[39;00m\u001b[39mWindows\u001b[39;00m\u001b[39m.\u001b[39;00m\u001b[39mForms\u001b[39;00m \u001b[39mimport\u001b[39;00m Form\n",
      "\u001b[0;31mAttributeError\u001b[0m: module 'clr' has no attribute 'AddReference'"
     ]
    }
   ],
   "source": [
    "import clr\n",
    "\n",
    "# Loading Assembly\n",
    "clr.AddReference(\"System.Windows.Forms\")\n",
    "\n",
    "# Importing it here\n",
    "from System.Windows.Forms import Form"
   ]
  },
  {
   "cell_type": "code",
   "execution_count": null,
   "metadata": {},
   "outputs": [
    {
     "ename": "AttributeError",
     "evalue": "module 'clr' has no attribute 'AddReference'",
     "output_type": "error",
     "traceback": [
      "\u001b[0;31m---------------------------------------------------------------------------\u001b[0m",
      "\u001b[0;31mAttributeError\u001b[0m                            Traceback (most recent call last)",
      "Cell \u001b[0;32mIn [12], line 2\u001b[0m\n\u001b[1;32m      1\u001b[0m \u001b[39mimport\u001b[39;00m \u001b[39mclr\u001b[39;00m\n\u001b[0;32m----> 2\u001b[0m clr\u001b[39m.\u001b[39;49mAddReference(\u001b[39m'\u001b[39m\u001b[39mSystem\u001b[39m\u001b[39m'\u001b[39m)\n\u001b[1;32m      3\u001b[0m \u001b[39mfrom\u001b[39;00m \u001b[39mSystem\u001b[39;00m\u001b[39m.\u001b[39;00m\u001b[39mCollections\u001b[39;00m \u001b[39mimport\u001b[39;00m Hashtable\n\u001b[1;32m      5\u001b[0m table \u001b[39m=\u001b[39m Hashtable()\n",
      "\u001b[0;31mAttributeError\u001b[0m: module 'clr' has no attribute 'AddReference'"
     ]
    }
   ],
   "source": [
    "import clr\n",
    "clr.AddReference('System')\n",
    "from System.Collections import Hashtable\n",
    "\n",
    "table = Hashtable()\n",
    "\n",
    "table[\"cat\"] = \"animal\"\n",
    "table[\"dog\"] = \"animal\"\n",
    "table[\"lion\"] = \"animal\"\n",
    "\n",
    "table[\"chips\"] = \"food\"\n",
    "table[\"chicken\"] = \"food\"\n",
    "table[\"rice\"] = \"food\"\n",
    "\n",
    "print(table[\"cat\"])"
   ]
  }
 ],
 "metadata": {
  "kernelspec": {
   "display_name": "Python 3.10.7 64-bit",
   "language": "python",
   "name": "python3"
  },
  "language_info": {
   "codemirror_mode": {
    "name": "ipython",
    "version": 3
   },
   "file_extension": ".py",
   "mimetype": "text/x-python",
   "name": "python",
   "nbconvert_exporter": "python",
   "pygments_lexer": "ipython3",
   "version": "3.10.7"
  },
  "orig_nbformat": 4,
  "vscode": {
   "interpreter": {
    "hash": "b0fa6594d8f4cbf19f97940f81e996739fb7646882a419484c72d19e05852a7e"
   }
  }
 },
 "nbformat": 4,
 "nbformat_minor": 2
}
