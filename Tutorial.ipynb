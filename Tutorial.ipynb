{
 "cells": [
  {
   "cell_type": "markdown",
   "metadata": {},
   "source": [
    "<div style=\"color: #f9f9f7; border: 5px solid #f9f9f7; padding: 10px;\">\n",
    "    <h1>Getting Started with Python. NET</h1>\n",
    "    <p style=\"font-weight: bold; \">First of all, what is Python. NET?<p>\n",
    "    <p>Python. NET (pythonnet) is a package that gives Python programmers nearly seamless integration with the . NET 4.0+ Common Language Runtime (CLR) on Windows and Mono runtime on Linux and OSX. Python.NET can be used with . NET embedding Python and/or can be used with Python embedding .NET. In today's tutorial, I will be showing both ways Python. NET can be implemented.</p>\n",
    "</div>\n"
   ]
  },
  {
   "cell_type": "markdown",
   "metadata": {},
   "source": [
    "<div style=\"color: #f9f9f7; padding: 10px; border-left: 2px solid #f9f9f7;\">\n",
    "    <p style=\"font-weight: bold;\">What is the Common Language Runtime(CLR)?<p>\n",
    "        Well taken straight from the source....\n",
    "        <p>.NET provides a run-time environment called the common language runtime that runs the code and provides services that make the development process easier.</p>\n",
    "        <p>Compilers and tools expose the common language runtime's functionality and enable you to write code that benefits from the managed execution environment. Code that you develop with a language compiler that targets the runtime is called managed code. Managed code benefits from features such as cross-language integration, cross-language exception handling, enhanced security, versioning and deployment support, a simplified model for component interaction, and debugging and profiling services.</p>\n",
    "        <p>TLDR; CLR helps manage the execution of .NET programs, regardless of the .NET language they were written in.</p>\n",
    "</div>\n"
   ]
  },
  {
   "cell_type": "markdown",
   "metadata": {},
   "source": [
    "<div style=\"color: #f9f9f7; padding: 10px; border-left: 2px solid #f9f9f7;\">\n",
    "    <p style=\"font-weight: bold;\">What are some benefits of the Common Language Runtime Enviornment?<p>\n",
    "        Also taken straight from Microsoft Docs...\n",
    "        <ul>\n",
    "            <li>Performance improvements</li>\n",
    "            <li>The ability to easily use components developed in other languages.</li>\n",
    "            <li>Extensible types provided by a class library.</li>\n",
    "            <li>Language features such as inheritance, interfaces, and overloading for object-oriented programming.</li>\n",
    "            <li>Support for explicit free threading that allows creation of multithreaded and scalable applications.</li>\n",
    "            <li>Support for structured exception handling.</li>\n",
    "            <li>Support for custom attributes.</li>\n",
    "            <li>Garbage collection.</li>\n",
    "        </ul>\n",
    "</div>"
   ]
  },
  {
   "cell_type": "markdown",
   "metadata": {},
   "source": [
    "<div style=\"color: #f9f9f7; padding: 10px; border-left: 2px solid #f9f9f7;\">\n",
    "    <p style=\"font-weight: bold;\">Installing Pythonnet<p>\n",
    "        <code style=\"margin-left: 10px;\">\n",
    "        pip install pythonnet\n",
    "        </code>\n",
    "</div>"
   ]
  },
  {
   "cell_type": "code",
   "execution_count": 5,
   "metadata": {},
   "outputs": [],
   "source": [
    "# To import the Library\n",
    "import clr"
   ]
  },
  {
   "cell_type": "markdown",
   "metadata": {},
   "source": [
    "<div style=\"color: #f9f9f7; padding: 10px; border-left: 2px solid #f9f9f7;\">\n",
    "    <p style=\"font-weight: bold; \">Importing Modules<p>\n",
    "    <p>Python.NET allows Common Language Runtimes(CLR) namespaces to be treated essentially as Python packages.</p>\n",
    "</div>\n"
   ]
  },
  {
   "cell_type": "code",
   "execution_count": 6,
   "metadata": {},
   "outputs": [
    {
     "name": "stdout",
     "output_type": "stream",
     "text": [
      "mark is currently 20 years old.\n",
      "bob is currently 27 years old.\n",
      "jane is currently 34 years old.\n"
     ]
    },
    {
     "data": {
      "text/plain": [
       "RuntimeInfo(kind='.NET Framework', version='<undefined>', initialized=True, shutdown=False)"
      ]
     },
     "execution_count": 6,
     "metadata": {},
     "output_type": "execute_result"
    }
   ],
   "source": [
    "\n",
    "import pythonnet\n",
    "# https://learn.microsoft.com/en-us/dotnet/api/system.collections.generic?view=net-7.0\n",
    "from System.Collections.Generic import Dictionary\n",
    "from System import String, UInt32, Type, Console\n",
    "\n",
    "# What happens if I change String into UInt32?\n",
    "dict1 = Dictionary[String, String]()\n",
    "dict2 = Dictionary[String, String]()\n",
    "dict3 = Dictionary[String, String]()\n",
    "\n",
    "dict1.Add(\"name\", \"mark\")\n",
    "dict1.Add(\"age\", \"20\")\n",
    "\n",
    "dict2.Add(\"name\", \"bob\")\n",
    "dict2.Add(\"age\", \"27\")\n",
    "\n",
    "dict3.Add(\"name\", \"jane\")\n",
    "dict3.Add(\"age\", \"34\")\n",
    "\n",
    "arrayOfDicts = [dict1, dict2, dict3]\n",
    "\n",
    "for i in range(0, len(arrayOfDicts)):\n",
    "    print(arrayOfDicts[i][\"name\"] + \" is currently \" + arrayOfDicts[i][\"age\"] + \" years old.\")\n",
    "\n",
    "\n",
    "pythonnet.get_runtime_info()\n"
   ]
  },
  {
   "cell_type": "markdown",
   "metadata": {},
   "source": [
    "<div style=\"color: #f9f9f7; padding: 10px; border-left: 2px solid #f9f9f7;\">\n",
    "    <p style=\"font-weight: bold; \">Loading Assemblies<p>\n",
    "    <p>The AddReference method can load assemblies if its not currently loaded.</p>\n",
    "</div>"
   ]
  },
  {
   "cell_type": "code",
   "execution_count": 7,
   "metadata": {},
   "outputs": [],
   "source": [
    "import clr\n",
    "\n",
    "# Loading Assembly\n",
    "clr.AddReference(\"System.Windows.Forms\")\n",
    "\n",
    "# Importing it here\n",
    "from System.Windows.Forms import Form"
   ]
  },
  {
   "cell_type": "code",
   "execution_count": 8,
   "metadata": {},
   "outputs": [
    {
     "name": "stdout",
     "output_type": "stream",
     "text": [
      "animal\n"
     ]
    }
   ],
   "source": [
    "from System.Collections import Hashtable\n",
    "\n",
    "table = Hashtable()\n",
    "\n",
    "table[\"cat\"] = \"animal\"\n",
    "table[\"dog\"] = \"animal\"\n",
    "table[\"lion\"] = \"animal\"\n",
    "\n",
    "table[\"chips\"] = \"food\"\n",
    "table[\"chicken\"] = \"food\"\n",
    "table[\"rice\"] = \"food\"\n",
    "\n",
    "print(table[\"cat\"])"
   ]
  }
 ],
 "metadata": {
  "kernelspec": {
   "display_name": "Python 3.10.7 64-bit",
   "language": "python",
   "name": "python3"
  },
  "language_info": {
   "codemirror_mode": {
    "name": "ipython",
    "version": 3
   },
   "file_extension": ".py",
   "mimetype": "text/x-python",
   "name": "python",
   "nbconvert_exporter": "python",
   "pygments_lexer": "ipython3",
   "version": "3.10.7"
  },
  "orig_nbformat": 4,
  "vscode": {
   "interpreter": {
    "hash": "bebf9730dc43cfbc35fb329a82a69476f49cde6de038a2bbfc26f12404ad85fb"
   }
  }
 },
 "nbformat": 4,
 "nbformat_minor": 2
}
